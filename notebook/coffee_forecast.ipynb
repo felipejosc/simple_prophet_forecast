{
 "cells": [
  {
   "cell_type": "code",
   "execution_count": null,
   "id": "6157f682",
   "metadata": {},
   "outputs": [],
   "source": [
    "import os\n",
    "import pandas as pd\n",
    "import numpy as np\n",
    "import matplotlib.pyplot as plt\n",
    "from prophet import Prophet\n",
    "from sklearn.metrics import mean_absolute_error, mean_squared_error, r2_score\n",
    "from pandas.plotting import autocorrelation_plot\n",
    "\n",
    "# Caminho relativo para o CSV\n",
    "script_dir = os.getcwd()\n",
    "csv_path = os.path.join(script_dir, \"../data/Coffee_sales.csv\")\n",
    "csv_path = os.path.abspath(csv_path)\n",
    "\n",
    "# Leitura\n",
    "df = pd.read_csv(csv_path)\n",
    "display(df.head())\n"
   ]
  }
 ],
 "metadata": {
  "language_info": {
   "name": "python"
  }
 },
 "nbformat": 4,
 "nbformat_minor": 5
}
