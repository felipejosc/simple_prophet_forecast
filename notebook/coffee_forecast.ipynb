{
 "cells": [
  {
   "cell_type": "code",
   "execution_count": null,
   "id": "6157f682",
   "metadata": {},
   "outputs": [],
   "source": [
    "import os\n",
    "import pandas as pd\n",
    "import numpy as np\n",
    "import matplotlib.pyplot as plt\n",
    "from prophet import Prophet\n",
    "from sklearn.metrics import mean_absolute_error, mean_squared_error, r2_score\n",
    "from pandas.plotting import autocorrelation_plot\n",
    "\n",
    "# Caminho relativo para o CSV\n",
    "script_dir = os.getcwd()\n",
    "csv_path = os.path.join(script_dir, \"../data/Coffee_sales.csv\")\n",
    "csv_path = os.path.abspath(csv_path)\n",
    "\n",
    "# Leitura\n",
    "df = pd.read_csv(csv_path)\n",
    "display(df.head())\n"
   ]
  },
  {
   "cell_type": "code",
   "execution_count": null,
   "id": "2dd448d0",
   "metadata": {},
   "outputs": [],
   "source": [
    "df.info()\n"
   ]
  },
  {
   "cell_type": "code",
   "execution_count": null,
   "id": "3ac96642",
   "metadata": {},
   "outputs": [],
   "source": [
    "df.shap"
   ]
  },
  {
   "cell_type": "code",
   "execution_count": null,
   "id": "8f11c636",
   "metadata": {},
   "outputs": [],
   "source": [
    "# Padronizando em 'snake_case'\n",
    "df.columns = df.columns.str.replace(' ', '_').str.lower()\n",
    "\n",
    "print('hífens:', df['date'].str.contains('-').sum())\n",
    "print('espaços:', df['date'].str.contains(' ').sum())\n"
   ]
  },
  {
   "cell_type": "code",
   "execution_count": null,
   "id": "43e66f5c",
   "metadata": {},
   "outputs": [],
   "source": [
    "# Agrupa por data e soma o valor de vendas\n",
    "df_prophet = df.groupby('date')['money'].sum().reset_index()\n",
    "df_prophet = df_prophet.rename(columns={'date': 'ds', 'money': 'y'})\n",
    "\n",
    "# Conversão de data e reamostragem semanal\n",
    "df_prophet['ds'] = pd.to_datetime(df_prophet['ds'], format='mixed')\n",
    "df_weekly = df_prophet.resample('W-MON', on='ds').sum().reset_index()\n",
    "df_weekly.head()\n"
   ]
  },
  {
   "cell_type": "code",
   "execution_count": null,
   "id": "19ee92f3",
   "metadata": {},
   "outputs": [],
   "source": [
    "# Suavização para reduzir ruído\n",
    "df_weekly['y_smooth'] = df_weekly['y'].rolling(3, center=True).mean()\n",
    "\n",
    "plt.figure(figsize=(10, 5))\n",
    "plt.plot(df_weekly['ds'], df_weekly['y'], label='Original', alpha=0.4)\n",
    "plt.plot(df_weekly['ds'], df_weekly['y_smooth'], label='Média móvel (3 semanas)', color='red')\n",
    "plt.title('Série temporal — Vendas de Café (suavizada)')\n",
    "plt.legend()\n",
    "plt.grid()\n",
    "plt.show()\n"
   ]
  },
  {
   "cell_type": "code",
   "execution_count": null,
   "id": "dfec7024",
   "metadata": {},
   "outputs": [],
   "source": [
    "H = 8  # horizonte de teste (8 semanas)\n",
    "\n",
    "train = df_weekly.iloc[:-H][['ds', 'y_smooth']].dropna().rename(columns={'y_smooth': 'y'})\n",
    "test = df_weekly.iloc[-H:][['ds', 'y_smooth']].rename(columns={'y_smooth': 'y'})\n",
    "\n",
    "m = Prophet()\n",
    "m.fit(train)\n",
    "\n",
    "future = m.make_future_dataframe(periods=H, freq='W-MON')\n",
    "forecast = m.predict(future)\n",
    "\n",
    "fig = m.plot(forecast)\n",
    "plt.title(\"Previsão com Prophet\")\n",
    "plt.show()\n"
   ]
  },
  {
   "cell_type": "code",
   "execution_count": null,
   "id": "39a7bbb4",
   "metadata": {},
   "outputs": [],
   "source": [
    "# Autocorrelação\n",
    "autocorrelation_plot(df_weekly['y'])\n",
    "\n",
    "# Métricas\n",
    "eval_df = forecast[['ds', 'yhat']].merge(test, on='ds', how='right')\n",
    "eval_df = eval_df.rename(columns={'y': 'y_true', 'yhat': 'y_pred'})\n",
    "eval_df.dropna(inplace=True)\n",
    "\n",
    "mae = mean_absolute_error(eval_df['y_true'], eval_df['y_pred'])\n",
    "rmse = np.sqrt(mean_squared_error(eval_df['y_true'], eval_df['y_pred']))\n",
    "r2 = r2_score(eval_df['y_true'], eval_df['y_pred'])\n",
    "\n",
    "print(f\"MAE : {mae:.2f}\")\n",
    "print(f\"RMSE: {rmse:.2f}\")\n",
    "print(f\"R²  : {r2:.3f}\")\n"
   ]
  }
 ],
 "metadata": {
  "kernelspec": {
   "display_name": "Python 3",
   "language": "python",
   "name": "python3"
  },
  "language_info": {
   "codemirror_mode": {
    "name": "ipython",
    "version": 3
   },
   "file_extension": ".py",
   "mimetype": "text/x-python",
   "name": "python",
   "nbconvert_exporter": "python",
   "pygments_lexer": "ipython3",
   "version": "3.13.3"
  }
 },
 "nbformat": 4,
 "nbformat_minor": 5
}
