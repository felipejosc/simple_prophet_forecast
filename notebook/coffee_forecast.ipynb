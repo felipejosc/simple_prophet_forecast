import os
import pandas as pd
import numpy as np
import matplotlib.pyplot as plt
from prophet import Prophet
from sklearn.metrics import mean_absolute_error, mean_squared_error, r2_score
from pandas.plotting import autocorrelation_plot

# Caminho relativo para o CSV
script_dir = os.getcwd()
csv_path = os.path.join(script_dir, "../data/Coffee_sales.csv")
csv_path = os.path.abspath(csv_path)

# Leitura
df = pd.read_csv(csv_path)
display(df.head())

df.info()
df.shape
